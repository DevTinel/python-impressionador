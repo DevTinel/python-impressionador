{
 "cells": [
  {
   "attachments": {},
   "cell_type": "markdown",
   "id": "2b04bbea",
   "metadata": {},
   "source": [
    "# Strings\n",
    "\n",
    "<span style=\"color: red;\"><b>Todos os exercícios são feitos partindo-se do pressuposto de que todas as entradas são dadas de forma correta. Casos limite não mencionados no enunciado não são abordados porque não fazem parte do exercício.</b></span>"
   ]
  },
  {
   "attachments": {},
   "cell_type": "markdown",
   "id": "5b1f33b9",
   "metadata": {},
   "source": [
    "#### 1. Tamanho de strings. Faça um programa que leia 2 strings e informe o conteúdo delas seguido do seu comprimento. Informe também se as duas strings possuem o mesmo comprimento e são iguais ou diferentes no conteúdo.\n",
    "<pre>\n",
    "Compara duas strings\n",
    "String 1: Brasil Hexa 2006\n",
    "String 2: Brasil! Hexa 2006!\n",
    "Tamanho de \"Brasil Hexa 2006\": 16 caracteres\n",
    "Tamanho de \"Brasil! Hexa 2006!\": 18 caracteres\n",
    "As duas strings são de tamanhos diferentes.\n",
    "As duas strings possuem conteúdo diferente.\n",
    "</pre>"
   ]
  },
  {
   "cell_type": "code",
   "execution_count": 2,
   "id": "c492b657",
   "metadata": {},
   "outputs": [
    {
     "name": "stdout",
     "output_type": "stream",
     "text": [
      "Tamanho de \"Ola como vc esta?\": 17 caracteres\n",
      "Tamanho de \"Estou bem e voce?\": 17 caracteres\n",
      "As duas strings são de tamanhos diferentes. \n",
      "As duas strings são diferentes\n"
     ]
    }
   ],
   "source": [
    "string1 = input('Digite um texto')\n",
    "string2 = input('Digite outro texto')\n",
    "\n",
    "print(f'Tamanho de \"{string1}\": {len(string1)} caracteres')\n",
    "print(f'Tamanho de \"{string2}\": {len(string2)} caracteres')\n",
    "\n",
    "if len(string1) == len(string2):\n",
    "    print('As duas strings são de tamanhos diferentes. ')\n",
    "else:\n",
    "     print('As duas strings possuem o mesmo tamanho. ')    \n",
    "\n",
    "if string1 == string2:\n",
    "    print('As duas strings possuem conteudo iguais')\n",
    "else:\n",
    "    print('As duas strings possuem conteudo diferentes')\n"
   ]
  },
  {
   "attachments": {},
   "cell_type": "markdown",
   "id": "c3068a53",
   "metadata": {},
   "source": [
    "#### 2. Valida e corrige número de telefone. Faça um programa que leia um número de telefone, e corrija o número no caso deste conter somente 7 dígitos, acrescentando o '3' na frente. O usuário pode informar o número com ou sem o traço separador.\n",
    "<pre>\n",
    "Valida e corrige número de telefone\n",
    "Telefone: 461-0133\n",
    "Telefone possui 7 dígitos. Vou acrescentar o digito três na frente.\n",
    "Telefone corrigido sem formatação: 34610133\n",
    "Telefone corrigido com formatação: 3461-0133\n",
    "</pre>"
   ]
  },
  {
   "cell_type": "code",
   "execution_count": 21,
   "id": "0308566d",
   "metadata": {},
   "outputs": [
    {
     "name": "stdout",
     "output_type": "stream",
     "text": [
      "1234-4232\n"
     ]
    }
   ],
   "source": [
    "num = input('Digite o numero do seu telefone: ')\n",
    "\n",
    "num = num.strip()\n",
    "num = num.replace('-','')\n",
    "\n",
    "\n",
    "if len(num) == 8 and num.isnumeric():\n",
    "    primeiro_4_dig = num[:4] \n",
    "    ultimos_4_dig = num[4:] \n",
    "    telefone_corrigido = f'{primeiro_4_dig}-{ultimos_4_dig}'\n",
    "    print(telefone_corrigido)\n",
    "elif len(num) == 7 and num.isnumeric():\n",
    "    primeiro_4_dig = num[:3] \n",
    "    ultimos_4_dig = num[3:]\n",
    "    telefone_corrigido = f'3{primeiro_4_dig}-{ultimos_4_dig}' \n",
    "    print(telefone_corrigido)\n",
    "else:\n",
    "    print('Numero incorreto, digite apenas numeros')"
   ]
  }
 ],
 "metadata": {
  "kernelspec": {
   "display_name": "Python 3 (ipykernel)",
   "language": "python",
   "name": "python3"
  },
  "language_info": {
   "codemirror_mode": {
    "name": "ipython",
    "version": 3
   },
   "file_extension": ".py",
   "mimetype": "text/x-python",
   "name": "python",
   "nbconvert_exporter": "python",
   "pygments_lexer": "ipython3",
   "version": "3.11.2"
  }
 },
 "nbformat": 4,
 "nbformat_minor": 5
}
