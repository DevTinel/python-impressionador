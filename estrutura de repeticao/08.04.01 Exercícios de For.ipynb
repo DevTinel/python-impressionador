{
 "cells": [
  {
   "attachments": {},
   "cell_type": "markdown",
   "metadata": {},
   "source": [
    "# Exercícios\n",
    "\n",
    "## 1. Criando um Registro de Hóspedes\n",
    "\n",
    "Digamos que você está criando o sistema para registrar a chegada de hóspedes em um hotel. No hotel, os hóspedes podem ter quartos com 1, 2, 3 e 4 pessoas. Seu sistema deve conseguir:\n",
    "\n",
    "1. Identificar quantas pessoas o hóspede que acabou de chegar vai ter no quarto (perguntando por meio de input)\n",
    "2. De acordo com a quantidade de pessoas do hóspede, ele deve fazer um for para perguntar o cpf e o nome de cada pessoa, a fim de registrá-la no quarto (2 inputs para cada pessoa, 1 para o cpf e outro para o nome)\n",
    "3. O seu programa então deve gerar uma lista com todas as pessoas que ficarão no quarto em que cada item dessa lista é o nome da pessoa e o cpf da pessoa, assim:"
   ]
  },
  {
   "cell_type": "raw",
   "metadata": {},
   "source": [
    "quarto = [\n",
    "    ['João', 'cpf:00000000000'],\n",
    "    ['Julia', 'cpf:11111111111'],\n",
    "    ['Marcus', 'cpf:22222222222'],\n",
    "    ['Maria', 'cpf:33333333333'],\n",
    "]"
   ]
  },
  {
   "attachments": {},
   "cell_type": "markdown",
   "metadata": {},
   "source": [
    "- Para simplificar, não vamos nos preocupar com possibilidades de \"tentar colocar mais de 1 hóspede, digitar o cpf errado, etc. Nosso objetivo é treinar a criação de uma rotina de cadastro"
   ]
  },
  {
   "cell_type": "code",
   "execution_count": 55,
   "metadata": {},
   "outputs": [
    {
     "name": "stdout",
     "output_type": "stream",
     "text": [
      "[['dsadsadsa', 'cpf:123321']]\n"
     ]
    }
   ],
   "source": [
    "#seu código aqui\n",
    "qtd_hospedes = int(input('Quantos hospedes serão cadastrados?: '))\n",
    "quarto = []\n",
    "\n",
    "for i in range(qtd_hospedes):\n",
    "    nome = input('Qual o nome do hospede?: ')\n",
    "    cpf = input('Qual o CPF do hospede?: ')\n",
    "    quarto.append([nome,'cpf:' + cpf])\n",
    "print(quarto)"
   ]
  },
  {
   "attachments": {},
   "cell_type": "markdown",
   "metadata": {},
   "source": [
    "## 2. Análise de Vendas\n",
    "\n",
    "Nesse exercício vamos fazer uma \"análise simples\" de atingimento de Meta.\n",
    "\n",
    "Temos uma lista com os vendedores e os valores de vendas e queremos identificar (printar) quais os vendedores que bateram a meta e qual foi o valor que eles venderam."
   ]
  },
  {
   "cell_type": "code",
   "execution_count": 4,
   "metadata": {},
   "outputs": [
    {
     "ename": "KeyboardInterrupt",
     "evalue": "",
     "output_type": "error",
     "traceback": [
      "\u001b[1;31m---------------------------------------------------------------------------\u001b[0m",
      "\u001b[1;31mKeyboardInterrupt\u001b[0m                         Traceback (most recent call last)",
      "Cell \u001b[1;32mIn[4], line 25\u001b[0m\n\u001b[0;32m     22\u001b[0m         c1 \u001b[39m+\u001b[39m\u001b[39m=\u001b[39m \u001b[39m1\u001b[39m\n\u001b[0;32m     23\u001b[0m     \u001b[39mreturn\u001b[39;00m c \u001b[39m%\u001b[39m \u001b[39m100\u001b[39m\n\u001b[1;32m---> 25\u001b[0m n \u001b[39m=\u001b[39m blevers(\u001b[39m15\u001b[39;49m)\n\u001b[0;32m     27\u001b[0m \u001b[39mprint\u001b[39m(n)\n",
      "Cell \u001b[1;32mIn[4], line 20\u001b[0m, in \u001b[0;36mblevers\u001b[1;34m(n)\u001b[0m\n\u001b[0;32m     18\u001b[0m c1 \u001b[39m=\u001b[39m \u001b[39m1\u001b[39m\n\u001b[0;32m     19\u001b[0m \u001b[39mwhile\u001b[39;00m c1 \u001b[39m<\u001b[39m\u001b[39m=\u001b[39m n:\n\u001b[1;32m---> 20\u001b[0m     \u001b[39mwhile\u001b[39;00m n \u001b[39m%\u001b[39m c1 \u001b[39m==\u001b[39m\u001b[39m0\u001b[39m:\n\u001b[0;32m     21\u001b[0m         c \u001b[39m+\u001b[39m\u001b[39m=\u001b[39m \u001b[39m1\u001b[39m\n\u001b[0;32m     22\u001b[0m     c1 \u001b[39m+\u001b[39m\u001b[39m=\u001b[39m \u001b[39m1\u001b[39m\n",
      "\u001b[1;31mKeyboardInterrupt\u001b[0m: "
     ]
    }
   ],
   "source": [
    "# meta = 10000\n",
    "# vendas = [\n",
    "#     ['João', 15000],\n",
    "#     ['Julia', 27000],\n",
    "#     ['Marcus', 9900],\n",
    "#     ['Maria', 3750],\n",
    "#     ['Ana', 10300],\n",
    "#     ['Alon', 7870],\n",
    "# ]\n",
    "# #seu código aqui\n",
    "# for item in vendas:\n",
    "#     if item[1] >= meta:\n",
    "#         print(f'{item[0]} bateram a meta e vendaram R$ {item[1]:.0f}')\n",
    "\n",
    "\n",
    "def blevers(n):\n",
    "    c = 0\n",
    "    c1 = 1\n",
    "    while c1 <= n:\n",
    "        while n % c1 ==0:\n",
    "            c += 1\n",
    "        c1 += 1\n",
    "    return c % 100\n",
    "\n",
    "n = blevers(15)\n",
    "\n",
    "print(n)"
   ]
  },
  {
   "attachments": {},
   "cell_type": "markdown",
   "metadata": {},
   "source": [
    "## 3. Comparação com Ano Anterior\n",
    "\n",
    "Digamos que você está analisando as vendas de produtos de um ecommerce e quer identificar quais produtos tiveram no ano de 2020 mais vendas do que no ano de 2019, para reportar isso para a diretoria.\n",
    "\n",
    "Sua resposta pode ser um print de cada produto, qual foi a venda de 2019, a venda de 2020 e o % de crescimento de 2020 para 2019.\n",
    "\n",
    "Lembrando, para calcular o % de crescimento de um produto de um ano para o outro, podemos fazer: (vendas_produto2020/vendas_produto2019 - 1)\n",
    "\n",
    "Dica: lembre do enumerate, ele pode facilitar seu \"for\""
   ]
  },
  {
   "cell_type": "code",
   "execution_count": 1,
   "metadata": {},
   "outputs": [
    {
     "name": "stdout",
     "output_type": "stream",
     "text": [
      "Os produtos que tivem mais vendas em 2020 do que em 2019 foram:\n",
      "\n",
      "iphone com R$ 951,642 de vendas em 2020 enquanto em \n",
      "2019 tiveram R$ 558,147 de vendas com uma taxa de crescimento de 71%\n",
      "\n",
      "tv com R$ 787,604 de vendas em 2020 enquanto em \n",
      "2019 tiveram R$ 405,252 de vendas com uma taxa de crescimento de 94%\n",
      "\n",
      "máquina de café com R$ 867,660 de vendas em 2020 enquanto em \n",
      "2019 tiveram R$ 718,654 de vendas com uma taxa de crescimento de 21%\n",
      "\n",
      "notebook dell com R$ 694,913 de vendas em 2020 enquanto em \n",
      "2019 tiveram R$ 422,760 de vendas com uma taxa de crescimento de 64%\n",
      "\n",
      "notebook hp com R$ 539,704 de vendas em 2020 enquanto em \n",
      "2019 tiveram R$ 154,753 de vendas com uma taxa de crescimento de 249%\n",
      "\n",
      "microsoft surface com R$ 667,179 de vendas em 2020 enquanto em \n",
      "2019 tiveram R$ 438,508 de vendas com uma taxa de crescimento de 52%\n",
      "\n",
      "webcam com R$ 295,633 de vendas em 2020 enquanto em \n",
      "2019 tiveram R$ 237,467 de vendas com uma taxa de crescimento de 24%\n",
      "\n",
      "caixa de som com R$ 725,316 de vendas em 2020 enquanto em \n",
      "2019 tiveram R$ 489,705 de vendas com uma taxa de crescimento de 48%\n",
      "\n",
      "microfone com R$ 644,622 de vendas em 2020 enquanto em \n",
      "2019 tiveram R$ 328,311 de vendas com uma taxa de crescimento de 96%\n",
      "\n",
      "câmera canon com R$ 994,303 de vendas em 2020 enquanto em \n",
      "2019 tiveram R$ 591,120 de vendas com uma taxa de crescimento de 68%\n",
      "\n"
     ]
    }
   ],
   "source": [
    "produtos = ['iphone', 'galaxy', 'ipad', 'tv', 'máquina de café', 'kindle', 'geladeira', 'adega', 'notebook dell', 'notebook hp', 'notebook asus', 'microsoft surface', 'webcam', 'caixa de som', 'microfone', 'câmera canon']\n",
    "vendas2019 = [558147,712350,573823,405252,718654,531580,973139,892292,422760,154753,887061,438508,237467,489705,328311,591120]\n",
    "vendas2020 = [951642,244295,26964,787604,867660,78830,710331,646016,694913,539704,324831,667179,295633,725316,644622,994303]\n",
    "#seu código aqui\n",
    "\n",
    "print('Os produtos que tivem mais vendas em 2020 do que em 2019 foram:\\n')\n",
    "for i,produto in enumerate(produtos):\n",
    "    if vendas2020[i] > vendas2019[i]:\n",
    "        print(f'''{produto} com R$ {vendas2020[i]:,} de vendas em 2020 enquanto em \\n2019 tiveram R$ {vendas2019[i]:,} de vendas com uma taxa de crescimento de {vendas2020[i]/vendas2019[i] -1:.0%}\\n''')"
   ]
  }
 ],
 "metadata": {
  "kernelspec": {
   "display_name": "Python 3",
   "language": "python",
   "name": "python3"
  },
  "language_info": {
   "codemirror_mode": {
    "name": "ipython",
    "version": 3
   },
   "file_extension": ".py",
   "mimetype": "text/x-python",
   "name": "python",
   "nbconvert_exporter": "python",
   "pygments_lexer": "ipython3",
   "version": "3.11.2"
  }
 },
 "nbformat": 4,
 "nbformat_minor": 4
}
